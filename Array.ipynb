{
 "cells": [
  {
   "cell_type": "code",
   "execution_count": 3,
   "id": "c437ad13-d1d5-4d70-bb5b-c728c57162f3",
   "metadata": {},
   "outputs": [],
   "source": [
    "import numpy as np"
   ]
  },
  {
   "cell_type": "code",
   "execution_count": 41,
   "id": "15a9902c-2f9f-4593-9faf-823c2fbf3941",
   "metadata": {},
   "outputs": [],
   "source": [
    "array1=np.random.randint(3,19,size=(3,4,2)) #size=(blocks,rows of blocks,each row contains the columns)"
   ]
  },
  {
   "cell_type": "code",
   "execution_count": 43,
   "id": "7d864168-c12c-4247-90f4-33263043f74b",
   "metadata": {},
   "outputs": [
    {
     "data": {
      "text/plain": [
       "array([[[10,  3],\n",
       "        [14,  5],\n",
       "        [15, 15],\n",
       "        [16, 13]],\n",
       "\n",
       "       [[13, 14],\n",
       "        [ 9,  5],\n",
       "        [16,  8],\n",
       "        [13, 15]],\n",
       "\n",
       "       [[16, 12],\n",
       "        [17,  3],\n",
       "        [16,  7],\n",
       "        [17, 10]]])"
      ]
     },
     "execution_count": 43,
     "metadata": {},
     "output_type": "execute_result"
    }
   ],
   "source": [
    "array1"
   ]
  },
  {
   "cell_type": "code",
   "execution_count": 53,
   "id": "cafe90b0-5dfc-4f17-acb9-85bd1e4a6451",
   "metadata": {},
   "outputs": [
    {
     "data": {
      "text/plain": [
       "5"
      ]
     },
     "execution_count": 53,
     "metadata": {},
     "output_type": "execute_result"
    }
   ],
   "source": [
    "array1[1][1][1]"
   ]
  },
  {
   "cell_type": "code",
   "execution_count": 55,
   "id": "4d2d3b38-b5fb-4017-b13c-bf9c0f09119d",
   "metadata": {},
   "outputs": [],
   "source": [
    "array2=np.array([1,3,4,5,6,6,7,8,10,15])"
   ]
  },
  {
   "cell_type": "code",
   "execution_count": 67,
   "id": "423c9d6c-6ef4-41c3-8b74-b1d417dd5720",
   "metadata": {},
   "outputs": [
    {
     "name": "stdout",
     "output_type": "stream",
     "text": [
      "[3 4 5]\n"
     ]
    }
   ],
   "source": [
    "print(array2[1:4])"
   ]
  },
  {
   "cell_type": "code",
   "execution_count": 69,
   "id": "33b17dab-c8cc-4109-bacc-c75e708b1a09",
   "metadata": {},
   "outputs": [],
   "source": [
    "array3=np.random.randint(1,9,size=(3,4))"
   ]
  },
  {
   "cell_type": "code",
   "execution_count": 71,
   "id": "0d047d88-e313-48a9-8a7b-110efef05a26",
   "metadata": {},
   "outputs": [
    {
     "data": {
      "text/plain": [
       "array([[6, 8, 8, 1],\n",
       "       [6, 1, 5, 7],\n",
       "       [5, 8, 1, 8]])"
      ]
     },
     "execution_count": 71,
     "metadata": {},
     "output_type": "execute_result"
    }
   ],
   "source": [
    "array3"
   ]
  },
  {
   "cell_type": "code",
   "execution_count": 83,
   "id": "57a48311-3e86-40c9-b882-5684247b53e0",
   "metadata": {},
   "outputs": [
    {
     "data": {
      "text/plain": [
       "array([[8, 8, 1],\n",
       "       [1, 5, 7],\n",
       "       [8, 1, 8]])"
      ]
     },
     "execution_count": 83,
     "metadata": {},
     "output_type": "execute_result"
    }
   ],
   "source": [
    "array3[0:4,1:4]"
   ]
  },
  {
   "cell_type": "code",
   "execution_count": 95,
   "id": "2591da36-4400-4277-af48-f0b562886f3f",
   "metadata": {},
   "outputs": [
    {
     "data": {
      "text/plain": [
       "array([[5],\n",
       "       [1]])"
      ]
     },
     "execution_count": 95,
     "metadata": {},
     "output_type": "execute_result"
    }
   ],
   "source": [
    "array3[1:4,2:3]"
   ]
  },
  {
   "cell_type": "code",
   "execution_count": null,
   "id": "2175d905-1a03-4004-bb19-f7649c8bb560",
   "metadata": {},
   "outputs": [],
   "source": []
  }
 ],
 "metadata": {
  "kernelspec": {
   "display_name": "Python [conda env:base] *",
   "language": "python",
   "name": "conda-base-py"
  },
  "language_info": {
   "codemirror_mode": {
    "name": "ipython",
    "version": 3
   },
   "file_extension": ".py",
   "mimetype": "text/x-python",
   "name": "python",
   "nbconvert_exporter": "python",
   "pygments_lexer": "ipython3",
   "version": "3.12.7"
  }
 },
 "nbformat": 4,
 "nbformat_minor": 5
}
